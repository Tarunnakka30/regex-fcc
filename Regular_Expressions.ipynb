{
  "nbformat": 4,
  "nbformat_minor": 0,
  "metadata": {
    "colab": {
      "provenance": [],
      "authorship_tag": "ABX9TyOoz/6rhmvY/zTAnEFffhIa",
      "include_colab_link": true
    },
    "kernelspec": {
      "name": "python3",
      "display_name": "Python 3"
    },
    "language_info": {
      "name": "python"
    }
  },
  "cells": [
    {
      "cell_type": "markdown",
      "metadata": {
        "id": "view-in-github",
        "colab_type": "text"
      },
      "source": [
        "<a href=\"https://colab.research.google.com/github/Tarunnakka30/regex-fcc/blob/main/Regular_Expressions.ipynb\" target=\"_parent\"><img src=\"https://colab.research.google.com/assets/colab-badge.svg\" alt=\"Open In Colab\"/></a>"
      ]
    },
    {
      "cell_type": "markdown",
      "source": [
        "# Using the Test Method\n",
        "Regular expressions are used in programming languages to match parts of strings. You create patterns to help you do that matching.\n",
        "\n",
        "If you want to find the word the in the string *The dog chased the cat*, you could use the following regular expression: /the/. Notice that quote marks are not required within the regular expression.\n",
        "\n",
        "JavaScript has multiple ways to use regexes. One way to test a regex is using the .test() method. The .test() method takes the regex, applies it to a string (which is placed inside the parentheses), and returns true or false if your pattern finds something or not."
      ],
      "metadata": {
        "id": "Tdq8I51zppnA"
      }
    },
    {
      "cell_type": "code",
      "source": [
        "let testStr = \"freeCodeCamp\";\n",
        "let testRegex = /Code/;\n",
        "testRegex.test(testStr);"
      ],
      "metadata": {
        "id": "09y2wP70qEE7"
      },
      "execution_count": null,
      "outputs": []
    },
    {
      "cell_type": "markdown",
      "source": [
        "# Match Literal Strings\n",
        "In the last challenge, you searched for the word Hello using the regular expression /Hello/. That regex searched for a literal match of the string Hello. Here's another example searching for a literal match of the string Kevin"
      ],
      "metadata": {
        "id": "y8bXL-vErGs9"
      }
    },
    {
      "cell_type": "code",
      "source": [
        "let testStr = \"Hello, my name is Kevin.\";\n",
        "let testRegex = /Kevin/;\n",
        "testRegex.test(testStr);"
      ],
      "metadata": {
        "id": "sQ6G2DsurNlL"
      },
      "execution_count": null,
      "outputs": []
    },
    {
      "cell_type": "markdown",
      "source": [
        "This test call will return true.\n",
        "\n",
        "Any other forms of Kevin will not match. For example, the regex /Kevin/ will not match kevin or KEVIN."
      ],
      "metadata": {
        "id": "D4N5lPErrP7j"
      }
    },
    {
      "cell_type": "code",
      "source": [
        "let wrongRegex = /kevin/;\n",
        "wrongRegex.test(testStr);"
      ],
      "metadata": {
        "id": "ON5Un65yrUAc"
      },
      "execution_count": null,
      "outputs": []
    },
    {
      "cell_type": "markdown",
      "source": [
        "This test call will return false."
      ],
      "metadata": {
        "id": "6C1-jEGFrWJa"
      }
    },
    {
      "cell_type": "markdown",
      "source": [
        "# Match a Literal String with Different Possibilities\n",
        "Using regexes like /coding/, you can look for the pattern coding in another string.\n",
        "\n",
        "This is powerful to search single strings, but it's limited to only one pattern. You can search for multiple patterns using the alternation or OR operator: |.\n",
        "\n",
        "This operator matches patterns either before or after it. For example, if you wanted to match the strings yes or no, the regex you want is /yes|no/.\n",
        "\n",
        "You can also search for more than just two patterns. You can do this by adding more patterns with more OR operators separating them, like /yes|no|maybe/."
      ],
      "metadata": {
        "id": "3yDD4-ZmrYlC"
      }
    },
    {
      "cell_type": "code",
      "source": [
        "let petString = \"James has a pet cat.\";\n",
        "let petRegex = /dog|cat|bird|fish/; // Change this line\n",
        "let result = petRegex.test(petString);\n",
        "\n",
        "console.log(result);"
      ],
      "metadata": {
        "id": "Tx2pf-dWsDh8"
      },
      "execution_count": null,
      "outputs": []
    },
    {
      "cell_type": "markdown",
      "source": [
        "# Ignore Case While Matching\n",
        "Up until now, you've looked at regexes to do literal matches of strings. But sometimes, you might want to also match case differences.\n",
        "\n",
        "Case (or sometimes letter case) is the difference between uppercase letters and lowercase letters. Examples of uppercase are A, B, and C. Examples of lowercase are a, b, and c.\n",
        "\n",
        "You can match both cases using what is called a flag. There are other flags but here you'll focus on the flag that ignores case - the i flag. You can use it by appending it to the regex. An example of using this flag is /ignorecase/i. This regex can match the strings ignorecase, igNoreCase, and IgnoreCase."
      ],
      "metadata": {
        "id": "Bch9dJLHsnkA"
      }
    },
    {
      "cell_type": "code",
      "source": [
        "let myString = \"freeCodeCamp\";\n",
        "let fccRegex = /FreeCodeCamp/i; // Change this line\n",
        "let result = fccRegex.test(myString);"
      ],
      "metadata": {
        "id": "rzQ6FECTstzH"
      },
      "execution_count": null,
      "outputs": []
    },
    {
      "cell_type": "markdown",
      "source": [
        "# Extract Matches\n",
        "So far, you have only been checking if a pattern exists or not within a string. You can also extract the actual matches you found with the .match() method.\n",
        "\n",
        "To use the .match() method, apply the method on a string and pass in the regex inside the parentheses.\n",
        "\n",
        "Here's an example:"
      ],
      "metadata": {
        "id": "Xd3Jt8WZuDeo"
      }
    },
    {
      "cell_type": "code",
      "source": [
        "\"Hello, World!\".match(/Hello/);\n",
        "let ourStr = \"Regular expressions\";\n",
        "let ourRegex = /expressions/;\n",
        "ourStr.match(ourRegex);"
      ],
      "metadata": {
        "id": "aqclp-WNuHWR"
      },
      "execution_count": null,
      "outputs": []
    },
    {
      "cell_type": "markdown",
      "source": [
        "Here the first match would return [\"Hello\"] and the second would return [\"expressions\"].\n",
        "\n",
        "Note that the .match syntax is the \"opposite\" of the .test method you have been using thus far:"
      ],
      "metadata": {
        "id": "D6LfECgHuJa5"
      }
    },
    {
      "cell_type": "code",
      "source": [
        "'string'.match(/regex/);\n",
        "/regex/.test('string');"
      ],
      "metadata": {
        "id": "HVyQVNjHuMYy"
      },
      "execution_count": null,
      "outputs": []
    },
    {
      "cell_type": "code",
      "source": [
        "let extractStr = \"Extract the word 'coding' from this string.\".match(/coding/);\n",
        "let codingRegex = /coding/; // Change this line\n",
        "let result = extractStr; // Change this line"
      ],
      "metadata": {
        "id": "dYj-PnakuQFR"
      },
      "execution_count": null,
      "outputs": []
    },
    {
      "cell_type": "markdown",
      "source": [
        "# Find More Than the First Match\n",
        "So far, you have only been able to extract or search a pattern once."
      ],
      "metadata": {
        "id": "xlYYsI6zvKmj"
      }
    },
    {
      "cell_type": "code",
      "source": [
        "let testStr = \"Repeat, Repeat, Repeat\";\n",
        "let ourRegex = /Repeat/;\n",
        "testStr.match(ourRegex);"
      ],
      "metadata": {
        "id": "JRehtW1gvSRh"
      },
      "execution_count": null,
      "outputs": []
    },
    {
      "cell_type": "markdown",
      "source": [
        "Here match would return [\"Repeat\"].\n",
        "\n",
        "To search or extract a pattern more than once, you can use the global search flag: g."
      ],
      "metadata": {
        "id": "sM2b5GH9vUDV"
      }
    },
    {
      "cell_type": "code",
      "source": [
        "let repeatRegex = /Repeat/g;\n",
        "testStr.match(repeatRegex);"
      ],
      "metadata": {
        "id": "xYsY_yIVvWNu"
      },
      "execution_count": null,
      "outputs": []
    },
    {
      "cell_type": "markdown",
      "source": [
        "And here match returns the value [\"Repeat\", \"Repeat\", \"Repeat\"]\n",
        "\n",
        "**NOTE**: You can have multiple flags on your regex like /search/gi"
      ],
      "metadata": {
        "id": "eHrjE8mCvX9_"
      }
    },
    {
      "cell_type": "code",
      "source": [
        "let twinkleStar = \"Twinkle, twinkle, little star\";\n",
        "let starRegex = /twinkle/gi; // Change this line\n",
        "let result = twinkleStar.match(starRegex); // Change this line\n",
        "\n",
        "console.log(result);"
      ],
      "metadata": {
        "id": "Ul1IE5m9vkHi"
      },
      "execution_count": null,
      "outputs": []
    },
    {
      "cell_type": "markdown",
      "source": [
        "# Match Anything with Wildcard Period\n",
        "Sometimes you won't (or don't need to) know the exact characters in your patterns. Thinking of all words that match, say, a misspelling would take a long time. Luckily, you can save time using the wildcard character: .\n",
        "\n",
        "The wildcard character . will match any one character. The wildcard is also called dot and period. You can use the wildcard character just like any other character in the regex. For example, if you wanted to match hug, huh, hut, and hum, you can use the regex /hu./ to match all four words."
      ],
      "metadata": {
        "id": "D0jNKj9Xv2dX"
      }
    },
    {
      "cell_type": "code",
      "source": [
        "let humStr = \"I'll hum a song\";\n",
        "let hugStr = \"Bear hug\";\n",
        "let huRegex = /hu./;\n",
        "huRegex.test(humStr);\n",
        "huRegex.test(hugStr);"
      ],
      "metadata": {
        "id": "IGRf0u_0wcrX"
      },
      "execution_count": null,
      "outputs": []
    },
    {
      "cell_type": "markdown",
      "source": [
        "Both of these test calls would return true."
      ],
      "metadata": {
        "id": "yYEcPqHPwetI"
      }
    },
    {
      "cell_type": "markdown",
      "source": [
        "Complete the regex unRegex so that it matches the strings run, sun, fun, pun, nun, and bun. Your regex should use the wildcard character."
      ],
      "metadata": {
        "id": "LfQP4l4mw367"
      }
    },
    {
      "cell_type": "code",
      "source": [
        "let exampleStr = \"Let's have fun with regular expressions!\";\n",
        "let unRegex = /.un/; // Change this line\n",
        "let result = unRegex.test(exampleStr);\n",
        "\n",
        "console.log(result);"
      ],
      "metadata": {
        "id": "Nr__m_4Lw4xc"
      },
      "execution_count": null,
      "outputs": []
    },
    {
      "cell_type": "markdown",
      "source": [
        "#Match Single Character with Multiple Possibilities\n",
        "You learned how to match literal patterns (/literal/) and wildcard character (/./). Those are the extremes of regular expressions, where one finds exact matches and the other matches everything. There are options that are a balance between the two extremes.\n",
        "\n",
        "You can search for a literal pattern with some flexibility with character classes. Character classes allow you to define a group of characters you wish to match by placing them inside square ([ and ]) brackets.\n",
        "\n",
        "For example, you want to match bag, big, and bug but not bog. You can create the regex /b[aiu]g/ to do this. The [aiu] is the character class that will only match the characters a, i, or u."
      ],
      "metadata": {
        "id": "Y9yXlGBzw_4X"
      }
    },
    {
      "cell_type": "code",
      "source": [
        "let bigStr = \"big\";\n",
        "let bagStr = \"bag\";\n",
        "let bugStr = \"bug\";\n",
        "let bogStr = \"bog\";\n",
        "let bgRegex = /b[aiu]g/;\n",
        "bigStr.match(bgRegex);\n",
        "bagStr.match(bgRegex);\n",
        "bugStr.match(bgRegex);\n",
        "bogStr.match(bgRegex);"
      ],
      "metadata": {
        "id": "6yHkMLmqxI1F"
      },
      "execution_count": null,
      "outputs": []
    },
    {
      "cell_type": "markdown",
      "source": [
        "In order, the four match calls would return the values [\"big\"], [\"bag\"], [\"bug\"], and null.\n",
        "\n"
      ],
      "metadata": {
        "id": "b_jEoisbxKpY"
      }
    },
    {
      "cell_type": "markdown",
      "source": [
        "Use a character class with vowels (a, e, i, o, u) in your regex vowelRegex to find all the vowels in the string quoteSample.\n",
        "\n"
      ],
      "metadata": {
        "id": "G3exkB9GxOGs"
      }
    },
    {
      "cell_type": "code",
      "source": [
        "let quoteSample = \"Beware of bugs in the above code; I have only proved it correct, not tried it.\";\n",
        "let vowelRegex = /[aeiou]/ig; // Change this line\n",
        "let result = quoteSample.match(vowelRegex); // Change this line\n",
        "\n",
        "console.log(result);"
      ],
      "metadata": {
        "id": "cpi0iVhMxRBl"
      },
      "execution_count": null,
      "outputs": []
    },
    {
      "cell_type": "markdown",
      "source": [
        "# Match Letters of the Alphabet\n",
        "You saw how you can use character sets to specify a group of characters to match, but that's a lot of typing when you need to match a large range of characters (for example, every letter in the alphabet). Fortunately, there is a built-in feature that makes this short and simple.\n",
        "\n",
        "Inside a character set, you can define a range of characters to match using a hyphen character: -.\n",
        "\n",
        "For example, to match lowercase letters a through e you would use [a-e]."
      ],
      "metadata": {
        "id": "zWgUvVt2yhDj"
      }
    },
    {
      "cell_type": "code",
      "source": [
        "let catStr = \"cat\";\n",
        "let batStr = \"bat\";\n",
        "let matStr = \"mat\";\n",
        "let bgRegex = /[a-e]at/;\n",
        "catStr.match(bgRegex);\n",
        "batStr.match(bgRegex);\n",
        "matStr.match(bgRegex);"
      ],
      "metadata": {
        "id": "aMYvsx7hymxw"
      },
      "execution_count": null,
      "outputs": []
    },
    {
      "cell_type": "markdown",
      "source": [
        "In order, the three match calls would return the values [\"cat\"], [\"bat\"], and null.\n",
        "<br>Match all the letters in the string quoteSample."
      ],
      "metadata": {
        "id": "tvaCECcpypEg"
      }
    },
    {
      "cell_type": "code",
      "source": [
        "let quoteSample = \"The quick brown fox jumps over the lazy dog.\";\n",
        "let alphabetRegex = /[a-z]/gi; // Change this line\n",
        "let result = quoteSample.match(alphabetRegex); // Change this line\n",
        "\n",
        "console.log(result);"
      ],
      "metadata": {
        "id": "s25lsJEwyv-X"
      },
      "execution_count": null,
      "outputs": []
    },
    {
      "cell_type": "markdown",
      "source": [
        "# Match Numbers and Letters of the Alphabet\n",
        "Using the hyphen (-) to match a range of characters is not limited to letters. It also works to match a range of numbers.\n",
        "\n",
        "For example, /[0-5]/ matches any number between 0 and 5, including the 0 and 5.\n",
        "\n",
        "Also, it is possible to combine a range of letters and numbers in a single character set."
      ],
      "metadata": {
        "id": "7hq0Us5Ez3u7"
      }
    },
    {
      "cell_type": "code",
      "source": [
        "let jennyStr = \"Jenny8675309\";\n",
        "let myRegex = /[a-z0-9]/ig;\n",
        "jennyStr.match(myRegex);"
      ],
      "metadata": {
        "id": "pm3fGzYAz7pQ"
      },
      "execution_count": null,
      "outputs": []
    },
    {
      "cell_type": "markdown",
      "source": [
        "Create a single regex that matches a range of letters between h and s, and a range of numbers between 2 and 6. Remember to include the appropriate flags in the regex.\n",
        "\n"
      ],
      "metadata": {
        "id": "ZutFla_xz9QR"
      }
    },
    {
      "cell_type": "code",
      "source": [
        "let quoteSample = \"Blueberry 3.141592653s are delicious.\";\n",
        "let myRegex = /[h-s2-6]/ig; // Change this line\n",
        "let result = quoteSample.match(myRegex); // Change this line\n",
        "\n",
        "console.log(result);"
      ],
      "metadata": {
        "id": "C-OzrX16z_An"
      },
      "execution_count": null,
      "outputs": []
    },
    {
      "cell_type": "markdown",
      "source": [
        "# Match Single Characters Not Specified\n",
        "So far, you have created a set of characters that you want to match, but you could also create a set of characters that you do not want to match. These types of character sets are called negated character sets.\n",
        "\n",
        "To create a negated character set, you place a caret character (^) after the opening bracket and before the characters you do not want to match.\n",
        "\n",
        "For example, /[^aeiou]/gi matches all characters that are not a vowel. Note that characters like ., !, [, @, / and white space are matched - the negated vowel character set only excludes the vowel characters.\n",
        "\n",
        "Create a single regex that matches all characters that are not a number or a vowel. Remember to include the appropriate flags in the regex."
      ],
      "metadata": {
        "id": "PBl2-Fy21eWr"
      }
    },
    {
      "cell_type": "code",
      "source": [
        "let quoteSample = \"3 blind mice.\";\n",
        "let myRegex = /[^aeiou0-9]/ig;\n",
        "let result = quoteSample.match(myRegex);"
      ],
      "metadata": {
        "id": "mc8Ug1EX1rIM"
      },
      "execution_count": null,
      "outputs": []
    },
    {
      "cell_type": "markdown",
      "source": [
        "# Match Characters that Occur One or More Times\n",
        "Sometimes, you need to match a character (or group of characters) that appears one or more times in a row. This means it occurs at least once, and may be repeated.\n",
        "\n",
        "You can use the + character to check if that is the case. Remember, the character or pattern has to be present consecutively. That is, the character has to repeat one after the other.\n",
        "\n",
        "For example, /a+/g would find one match in abc and return [\"a\"]. Because of the +, it would also find a single match in aabc and return [\"aa\"].\n",
        "\n",
        "If it were instead checking the string abab, it would find two matches and return [\"a\", \"a\"] because the a characters are not in a row - there is a b between them. Finally, since there is no a in the string bcd, it wouldn't find a match.\n",
        "\n",
        "You want to find matches when the letter s occurs one or more times in Mississippi. Write a regex that uses the + sign.\n"
      ],
      "metadata": {
        "id": "pXV6wirR1-5y"
      }
    },
    {
      "cell_type": "code",
      "source": [
        "let difficultSpelling = \"Mississippi\";\n",
        "let myRegex = /s+/g;\n",
        "let result = difficultSpelling.match(myRegex);"
      ],
      "metadata": {
        "id": "zIJwfgnt2WV4"
      },
      "execution_count": null,
      "outputs": []
    },
    {
      "cell_type": "markdown",
      "source": [
        "# Match Characters that Occur Zero or More Times\n",
        "The last challenge used the plus + sign to look for characters that occur one or more times. There's also an option that matches characters that occur zero or more times.\n",
        "\n",
        "The character to do this is the asterisk or star: *."
      ],
      "metadata": {
        "id": "NGmLYjz42h5Q"
      }
    },
    {
      "cell_type": "code",
      "source": [
        "let soccerWord = \"gooooooooal!\";\n",
        "let gPhrase = \"gut feeling\";\n",
        "let oPhrase = \"over the moon\";\n",
        "let goRegex = /go*/;\n",
        "soccerWord.match(goRegex);\n",
        "gPhrase.match(goRegex);\n",
        "oPhrase.match(goRegex);"
      ],
      "metadata": {
        "id": "w8dSxdna3iEK"
      },
      "execution_count": null,
      "outputs": []
    },
    {
      "cell_type": "markdown",
      "source": [
        "In order, the three match calls would return the values [\"goooooooo\"], [\"g\"], and null.\n",
        "\n",
        "For this challenge, chewieQuote has been initialized as the string Aaaaaaaaaaaaaaaarrrgh! behind the scenes. Create a regex chewieRegex that uses the * character to match an uppercase A character immediately followed by zero or more lowercase a characters in chewieQuote. Your regex does not need flags or character classes, and it should not match any of the other quotes.\n",
        "\n"
      ],
      "metadata": {
        "id": "thZ7Qrs13kL2"
      }
    },
    {
      "cell_type": "code",
      "source": [
        "let chewieRegex = /Aa*/;\n",
        "let result = chewieQuote.match(chewieRegex);"
      ],
      "metadata": {
        "id": "ZdtsQ5ul3nSg"
      },
      "execution_count": null,
      "outputs": []
    },
    {
      "cell_type": "markdown",
      "source": [
        "# Find Characters with Lazy Matching\n",
        "In regular expressions, a greedy match finds the longest possible part of a string that fits the regex pattern and returns it as a match. The alternative is called a lazy match, which finds the smallest possible part of the string that satisfies the regex pattern.\n",
        "\n",
        "You can apply the regex /t[a-z]*i/ to the string \"titanic\". This regex is basically a pattern that starts with t, ends with i, and has some letters in between.\n",
        "\n",
        "Regular expressions are by default greedy, so the match would return [\"titani\"]. It finds the largest sub-string possible to fit the pattern.\n",
        "\n",
        "However, you can use the ? character to change it to lazy matching. \"titanic\" matched against the adjusted regex of /t[a-z]*?i/ returns [\"ti\"].\n",
        "\n",
        "Note: Parsing HTML with regular expressions should be avoided, but pattern matching an HTML string with regular expressions is completely fine.\n",
        "\n",
        "Fix the regex /<.*>/ to return the HTML tag &lt;h1&gt; and not the text \"&lt;h1&gt;Winter is coming &lt;/h1&gt;\". Remember the wildcard . in a regular expression matches any character."
      ],
      "metadata": {
        "id": "ta-S6aV05_BB"
      }
    },
    {
      "cell_type": "code",
      "source": [
        "let text = \"<h1>Winter is coming</h1>\";\n",
        "let myRegex = /<.*?>/;\n",
        "let result = text.match(myRegex);"
      ],
      "metadata": {
        "id": "5Y2biPk66FpR"
      },
      "execution_count": null,
      "outputs": []
    },
    {
      "cell_type": "markdown",
      "source": [
        "# Find One or More Criminals in a Hunt\n",
        "Time to pause and test your new regex writing skills. A group of criminals escaped from jail and ran away, but you don't know how many. However, you do know that they stay close together when they are around other people. You are responsible for finding all of the criminals at once.\n",
        "\n",
        "Here's an example to review how to do this:\n",
        "\n",
        "The regex /z+/ matches the letter z when it appears one or more times in a row. It would find matches in all of the following strings:\n",
        "```\n",
        "\"z\"\n",
        "\"zzzzzz\"\n",
        "\"ABCzzzz\"\n",
        "\"zzzzABC\"\n",
        "\"abczzzzzzzzzzzzzzzzzzzzzabc\"\n",
        "```\n",
        "But it does not find matches in the following strings since there are no letter z characters:\n",
        "\n",
        "```\n",
        "\"\"\n",
        "\"ABC\"\n",
        "\"abcabc\"\n",
        "```\n",
        "Write a greedy regex that finds one or more criminals within a group of other people. A criminal is represented by the capital letter C."
      ],
      "metadata": {
        "id": "IgrJ-qC965CV"
      }
    },
    {
      "cell_type": "code",
      "source": [
        "let reCriminals = /C+/;"
      ],
      "metadata": {
        "id": "1qhlp2oO7zD3"
      },
      "execution_count": null,
      "outputs": []
    },
    {
      "cell_type": "markdown",
      "source": [
        "# Match Beginning String Patterns\n",
        "Prior challenges showed that regular expressions can be used to look for a number of matches. They are also used to search for patterns in specific positions in strings.\n",
        "\n",
        "In an earlier challenge, you used the caret character (^) inside a character set to create a negated character set in the form [^thingsThatWillNotBeMatched]. Outside of a character set, the caret is used to search for patterns at the beginning of strings."
      ],
      "metadata": {
        "id": "oKi2KQeH75wV"
      }
    },
    {
      "cell_type": "code",
      "source": [
        "let firstString = \"Ricky is first and can be found.\";\n",
        "let firstRegex = /^Ricky/;\n",
        "firstRegex.test(firstString);\n",
        "let notFirst = \"You can't find Ricky now.\";\n",
        "firstRegex.test(notFirst);"
      ],
      "metadata": {
        "id": "9AJK1NfQ8OTW"
      },
      "execution_count": null,
      "outputs": []
    },
    {
      "cell_type": "markdown",
      "source": [
        "The first test call would return true, while the second would return false.\n",
        "\n",
        "Use the caret character in a regex to find Cal only in the beginning of the string rickyAndCal."
      ],
      "metadata": {
        "id": "xOKLJy098QII"
      }
    },
    {
      "cell_type": "code",
      "source": [
        "let rickyAndCal = \"Cal and Ricky both like racing.\";\n",
        "let calRegex = /^Cal/;\n",
        "let result = calRegex.test(rickyAndCal);"
      ],
      "metadata": {
        "id": "21rbSlEM8SZ3"
      },
      "execution_count": null,
      "outputs": []
    },
    {
      "cell_type": "markdown",
      "source": [
        "# Match Ending String Patterns\n",
        "In the last challenge, you learned to use the caret character to search for patterns at the beginning of strings. There is also a way to search for patterns at the end of strings.\n",
        "\n",
        "You can search the end of strings using the dollar sign character $ at the end of the regex."
      ],
      "metadata": {
        "id": "1Z43twet8ig1"
      }
    },
    {
      "cell_type": "code",
      "source": [
        "let theEnding = \"This is a never ending story\";\n",
        "let storyRegex = /story$/;\n",
        "storyRegex.test(theEnding);\n",
        "let noEnding = \"Sometimes a story will have to end\";\n",
        "storyRegex.test(noEnding);"
      ],
      "metadata": {
        "id": "EbS1lweM8lsK"
      },
      "execution_count": null,
      "outputs": []
    },
    {
      "cell_type": "markdown",
      "source": [
        "The first test call would return true, while the second would return false.\n",
        "\n",
        "Use the anchor character ($) to match the string caboose at the end of the string caboose."
      ],
      "metadata": {
        "id": "AphdZJSr8nOk"
      }
    },
    {
      "cell_type": "code",
      "source": [
        "let caboose = \"The last car on a train is the caboose\";\n",
        "let lastRegex = /caboose$/;\n",
        "let result = lastRegex.test(caboose);"
      ],
      "metadata": {
        "id": "7k26fPCx8pBo"
      },
      "execution_count": null,
      "outputs": []
    },
    {
      "cell_type": "markdown",
      "source": [
        "# Match All Letters and Numbers\n",
        "Using character classes, you were able to search for all letters of the alphabet with [a-z]. This kind of character class is common enough that there is a shortcut for it, although it includes a few extra characters as well.\n",
        "\n",
        "The closest character class in JavaScript to match the alphabet is \\w. This shortcut is equal to [A-Za-z0-9_]. This character class matches upper and lowercase letters plus numbers. Note, this character class also includes the underscore character (_)."
      ],
      "metadata": {
        "id": "326G3Up78-PH"
      }
    },
    {
      "cell_type": "code",
      "source": [
        "let longHand = /[A-Za-z0-9_]+/;\n",
        "let shortHand = /\\w+/;\n",
        "let numbers = \"42\";\n",
        "let varNames = \"important_var\";\n",
        "longHand.test(numbers);\n",
        "shortHand.test(numbers);\n",
        "longHand.test(varNames);\n",
        "shortHand.test(varNames);"
      ],
      "metadata": {
        "id": "Lw14J-N39CSM"
      },
      "execution_count": null,
      "outputs": []
    },
    {
      "cell_type": "markdown",
      "source": [
        "All four of these test calls would return true.\n",
        "\n",
        "These shortcut character classes are also known as shorthand character classes.\n",
        "\n",
        "Use the shorthand character class \\w to count the number of alphanumeric characters in various quotes and strings.\n",
        "\n"
      ],
      "metadata": {
        "id": "7cqphErk9EEa"
      }
    },
    {
      "cell_type": "code",
      "source": [
        "let quoteSample = \"The five boxing wizards jump quickly.\";\n",
        "let alphabetRegexV2 = /\\w/g;\n",
        "let result = quoteSample.match(alphabetRegexV2).length;"
      ],
      "metadata": {
        "id": "UHOhfmVi9F1_"
      },
      "execution_count": null,
      "outputs": []
    },
    {
      "cell_type": "markdown",
      "source": [
        "# Match Everything But Letters and Numbers\n",
        "You've learned that you can use a shortcut to match alphanumerics [A-Za-z0-9_] using \\w. A natural pattern you might want to search for is the opposite of alphanumerics.\n",
        "\n",
        "You can search for the opposite of the \\w with \\W. Note, the opposite pattern uses a capital letter. This shortcut is the same as [^A-Za-z0-9_]."
      ],
      "metadata": {
        "id": "8vwUwecR9whg"
      }
    },
    {
      "cell_type": "code",
      "source": [
        "let shortHand = /\\W/;\n",
        "let numbers = \"42%\";\n",
        "let sentence = \"Coding!\";\n",
        "numbers.match(shortHand);\n",
        "sentence.match(shortHand);"
      ],
      "metadata": {
        "id": "eb_EQ3s29zPF"
      },
      "execution_count": null,
      "outputs": []
    },
    {
      "cell_type": "markdown",
      "source": [
        "The first match call would return the value [\"%\"] and the second would return [\"!\"].\n",
        "\n",
        "Use the shorthand character class \\W to count the number of non-alphanumeric characters in various quotes and strings.\n",
        "\n"
      ],
      "metadata": {
        "id": "1_1YFbfh90uw"
      }
    },
    {
      "cell_type": "code",
      "source": [
        "let quoteSample = \"The five boxing wizards jump quickly.\";\n",
        "let nonAlphabetRegex = /\\W/g;\n",
        "let result = quoteSample.match(nonAlphabetRegex).length;"
      ],
      "metadata": {
        "id": "4si12LGG92uW"
      },
      "execution_count": null,
      "outputs": []
    },
    {
      "cell_type": "markdown",
      "source": [
        "# Match All Numbers\n",
        "You've learned shortcuts for common string patterns like alphanumerics. Another common pattern is looking for just digits or numbers.\n",
        "\n",
        "The shortcut to look for digit characters is \\d, with a lowercase d. This is equal to the character class [0-9], which looks for a single character of any number between zero and nine.\n",
        "\n",
        "Use the shorthand character class \\d to count how many digits are in movie titles. Written out numbers (\"six\" instead of 6) do not count."
      ],
      "metadata": {
        "id": "i_f115se-Grc"
      }
    },
    {
      "cell_type": "code",
      "source": [
        "let movieName = \"2001: A Space Odyssey\";\n",
        "let numRegex = /\\d/g;\n",
        "let result = movieName.match(numRegex).length;\n",
        "\n",
        "console.log(result);"
      ],
      "metadata": {
        "id": "lF6reLsN-JRw"
      },
      "execution_count": null,
      "outputs": []
    },
    {
      "cell_type": "markdown",
      "source": [
        "# Match All Non-Numbers\n",
        "The last challenge showed how to search for digits using the shortcut \\d with a lowercase d. You can also search for non-digits using a similar shortcut that uses an uppercase D instead.\n",
        "\n",
        "The shortcut to look for non-digit characters is \\D. This is equal to the character class [^0-9], which looks for a single character that is not a number between zero and nine.\n",
        "\n",
        "Use the shorthand character class for non-digits \\D to count how many non-digits are in movie titles."
      ],
      "metadata": {
        "id": "3ylfnttO-z8X"
      }
    },
    {
      "cell_type": "code",
      "source": [
        "let movieName = \"2001: A Space Odyssey\";\n",
        "let noNumRegex = /\\D/g; // Change this line\n",
        "let result = movieName.match(noNumRegex).length;\n",
        "\n",
        "console.log(result)"
      ],
      "metadata": {
        "id": "tC_akMmd-5jk"
      },
      "execution_count": null,
      "outputs": []
    },
    {
      "cell_type": "markdown",
      "source": [
        "# Restrict Possible Usernames\n",
        "Usernames are used everywhere on the internet. They are what give users a unique identity on their favorite sites.\n",
        "\n",
        "You need to check all the usernames in a database. Here are some simple rules that users have to follow when creating their username.\n",
        "\n",
        "Usernames can only use alphanumeric characters.\n",
        "\n",
        "The only numbers in the username have to be at the end. There can be zero or more of them at the end. Username cannot start with the number.\n",
        "\n",
        "Username letters can be lowercase and uppercase.\n",
        "\n",
        "Usernames have to be at least two characters long. A two-character username can only use alphabet letters as characters.\n",
        "\n",
        "Change the regex userCheck to fit the constraints listed above."
      ],
      "metadata": {
        "id": "evBaE0fl_Xsu"
      }
    },
    {
      "cell_type": "code",
      "source": [
        "let username = \"JackOfAllTrades\";\n",
        "let userCheck = /^[a-z][0-9]{2,}|[a-z]\\d*$/i; // Change this line\n",
        "let result = userCheck.test(username);"
      ],
      "metadata": {
        "id": "2WuFOa-A_bHz"
      },
      "execution_count": null,
      "outputs": []
    },
    {
      "cell_type": "markdown",
      "source": [
        "Code Explanation 1 :\n",
        "```\n",
        "/^[a-z][a-z]+\\d*$|^[a-z]\\d\\d+$/i\n",
        "```\n",
        "```\n",
        "^ - start of input\n",
        "[a-z] - first character is a letter\n",
        "[a-z]+ - following characters are letters\n",
        "\\d*$ - input ends with 0 or more digits\n",
        "| - or\n",
        "^[a-z] - first character is a letter\n",
        "\\d\\d+ - following characters are 2 or more digits\n",
        "$ - end of input\n",
        "```\n",
        "\n"
      ],
      "metadata": {
        "id": "-lv6xNLtAilB"
      }
    },
    {
      "cell_type": "markdown",
      "source": [
        "Code Explanation 2 :\n",
        "```\n",
        " /^[a-z]([0-9]{2,}|[a-z]+\\d*)$/i\n",
        "```\n",
        "```\n",
        "^ - start of input\n",
        "[a-z] - first character is a letter\n",
        "[0-9]{2,} - ends with two or more numbers\n",
        "| - or\n",
        "[a-z]+ - has one or more letters next\n",
        "\\d* - and ends with zero or more numbers\n",
        "$ - end of input\n",
        "i - ignore case of input\n",
        "```\n",
        "\n"
      ],
      "metadata": {
        "id": "uk29MppCA3Ky"
      }
    },
    {
      "cell_type": "markdown",
      "source": [
        "# Match Whitespace\n",
        "The challenges so far have covered matching letters of the alphabet and numbers. You can also match the whitespace or spaces between letters.\n",
        "\n",
        "You can search for whitespace using \\s, which is a lowercase s. This pattern not only matches whitespace, but also carriage return, tab, form feed, and new line characters. You can think of it as similar to the character class [ \\r\\t\\f\\n\\v].\n"
      ],
      "metadata": {
        "id": "BxEGnecTBSqJ"
      }
    },
    {
      "cell_type": "code",
      "source": [
        "let whiteSpace = \"Whitespace. Whitespace everywhere!\"\n",
        "let spaceRegex = /\\s/g;\n",
        "whiteSpace.match(spaceRegex);"
      ],
      "metadata": {
        "id": "1DN0zP0vBXAK"
      },
      "execution_count": null,
      "outputs": []
    },
    {
      "cell_type": "markdown",
      "source": [
        "This match call would return [\" \", \" \"].\n",
        "\n",
        "Change the regex countWhiteSpace to look for multiple whitespace characters in a string."
      ],
      "metadata": {
        "id": "KPBDZGnCBYck"
      }
    },
    {
      "cell_type": "code",
      "source": [
        "let sample = \"Whitespace is important in separating words\";\n",
        "let countWhiteSpace = /\\s/g;\n",
        "let result = sample.match(countWhiteSpace);"
      ],
      "metadata": {
        "id": "pzI7SYHsBaWA"
      },
      "execution_count": null,
      "outputs": []
    },
    {
      "cell_type": "markdown",
      "source": [
        "# Match Non-Whitespace Characters\n",
        "You learned about searching for whitespace using \\s, with a lowercase s. You can also search for everything except whitespace.\n",
        "\n",
        "Search for non-whitespace using \\S, which is an uppercase s. This pattern will not match whitespace, carriage return, tab, form feed, and new line characters. You can think of it being similar to the character class [^ \\r\\t\\f\\n\\v]."
      ],
      "metadata": {
        "id": "oxjd3nicB3My"
      }
    },
    {
      "cell_type": "code",
      "source": [
        "let whiteSpace = \"Whitespace. Whitespace everywhere!\"\n",
        "let nonSpaceRegex = /\\S/g;\n",
        "whiteSpace.match(nonSpaceRegex).length;"
      ],
      "metadata": {
        "id": "3WB2V6PgB6Qx"
      },
      "execution_count": null,
      "outputs": []
    },
    {
      "cell_type": "markdown",
      "source": [
        "The value returned by the .length method would be 32.\n",
        "\n",
        "Change the regex countNonWhiteSpace to look for multiple non-whitespace characters in a string.\n",
        "\n"
      ],
      "metadata": {
        "id": "5V3zRGKtB7_F"
      }
    },
    {
      "cell_type": "code",
      "source": [
        "let sample = \"Whitespace is important in separating words\";\n",
        "let countNonWhiteSpace = /\\S/g;\n",
        "let result = sample.match(countNonWhiteSpace);"
      ],
      "metadata": {
        "id": "4yAmMQ0nB9yb"
      },
      "execution_count": null,
      "outputs": []
    },
    {
      "cell_type": "markdown",
      "source": [
        "# Specify Upper and Lower Number of Matches\n",
        "Recall that you use the plus sign + to look for one or more characters and the asterisk * to look for zero or more characters. These are convenient but sometimes you want to match a certain range of patterns.\n",
        "\n",
        "You can specify the lower and upper number of patterns with quantity specifiers. Quantity specifiers are used with curly brackets ({ and }). You put two numbers between the curly brackets - for the lower and upper number of patterns.\n",
        "\n",
        "For example, to match only the letter a appearing between 3 and 5 times in the string ah, your regex would be /a{3,5}h/."
      ],
      "metadata": {
        "id": "66ISVHMgCVoX"
      }
    },
    {
      "cell_type": "code",
      "source": [
        "let A4 = \"aaaah\";\n",
        "let A2 = \"aah\";\n",
        "let multipleA = /a{3,5}h/;\n",
        "multipleA.test(A4);\n",
        "multipleA.test(A2);"
      ],
      "metadata": {
        "id": "oFNXRQKrCaKJ"
      },
      "execution_count": null,
      "outputs": []
    },
    {
      "cell_type": "markdown",
      "source": [
        "The first test call would return true, while the second would return false.\n",
        "\n",
        "Change the regex ohRegex to match the entire phrase Oh no only when it has 3 to 6 letter h's."
      ],
      "metadata": {
        "id": "EfZQ57ZVCb60"
      }
    },
    {
      "cell_type": "code",
      "source": [
        "let ohStr = \"Ohhh no\";\n",
        "let ohRegex = /Oh{3,6}\\sno/;\n",
        "let result = ohRegex.test(ohStr);"
      ],
      "metadata": {
        "id": "B_hYunQtCdwT"
      },
      "execution_count": null,
      "outputs": []
    },
    {
      "cell_type": "markdown",
      "source": [
        "# Specify Only the Lower Number of Matches\n",
        "You can specify the lower and upper number of patterns with quantity specifiers using curly brackets. Sometimes you only want to specify the lower number of patterns with no upper limit.\n",
        "\n",
        "To only specify the lower number of patterns, keep the first number followed by a comma.\n",
        "\n",
        "For example, to match only the string hah with the letter a appearing at least 3 times, your regex would be /ha{3,}h/."
      ],
      "metadata": {
        "id": "o8K7RFkgDpoa"
      }
    },
    {
      "cell_type": "code",
      "source": [
        "let A4 = \"haaaah\";\n",
        "let A2 = \"haah\";\n",
        "let A100 = \"h\" + \"a\".repeat(100) + \"h\";\n",
        "let multipleA = /ha{3,}h/;\n",
        "multipleA.test(A4);\n",
        "multipleA.test(A2);\n",
        "multipleA.test(A100);"
      ],
      "metadata": {
        "id": "3opHqttXDssL"
      },
      "execution_count": null,
      "outputs": []
    },
    {
      "cell_type": "markdown",
      "source": [
        "In order, the three test calls would return true, false, and true.\n",
        "\n",
        "Change the regex haRegex to match the word Hazzah only when it has four or more letter z's."
      ],
      "metadata": {
        "id": "gJyMsJkkDuhM"
      }
    },
    {
      "cell_type": "code",
      "source": [
        "let haStr = \"Hazzzzah\";\n",
        "let haRegex = /Haz{4,}ah/;\n",
        "let result = haRegex.test(haStr);\n",
        "\n",
        "console.log(result);"
      ],
      "metadata": {
        "id": "LKZ1sqM9DwY0"
      },
      "execution_count": null,
      "outputs": []
    },
    {
      "cell_type": "markdown",
      "source": [
        "# Specify Exact Number of Matches\n",
        "You can specify the lower and upper number of patterns with quantity specifiers using curly brackets. Sometimes you only want a specific number of matches.\n",
        "\n",
        "To specify a certain number of patterns, just have that one number between the curly brackets.\n",
        "\n",
        "For example, to match only the word hah with the letter a 3 times, your regex would be /ha{3}h/."
      ],
      "metadata": {
        "id": "-LlKcUOfENyV"
      }
    },
    {
      "cell_type": "code",
      "source": [
        "let A4 = \"haaaah\";\n",
        "let A3 = \"haaah\";\n",
        "let A100 = \"h\" + \"a\".repeat(100) + \"h\";\n",
        "let multipleHA = /ha{3}h/;\n",
        "multipleHA.test(A4);\n",
        "multipleHA.test(A3);\n",
        "multipleHA.test(A100);"
      ],
      "metadata": {
        "id": "hzObBb5dEQpV"
      },
      "execution_count": null,
      "outputs": []
    },
    {
      "cell_type": "markdown",
      "source": [
        "In order, the three test calls would return false, true, and false.\n",
        "\n",
        "Change the regex timRegex to match the word Timber only when it has four letter m's."
      ],
      "metadata": {
        "id": "rjVvFLRJESXa"
      }
    },
    {
      "cell_type": "code",
      "source": [
        "let timStr = \"Timmmmber\";\n",
        "let timRegex = /Tim{4}ber/; // Change this line\n",
        "let result = timRegex.test(timStr);"
      ],
      "metadata": {
        "id": "pu886bgfEUU9"
      },
      "execution_count": null,
      "outputs": []
    },
    {
      "cell_type": "markdown",
      "source": [
        "# Check for All or None\n",
        "Sometimes the patterns you want to search for may have parts of it that may or may not exist. However, it may be important to check for them nonetheless.\n",
        "\n",
        "You can specify the possible existence of an element with a question mark, ?. This checks for zero or one of the preceding element. You can think of this symbol as saying the previous element is optional.\n",
        "\n",
        "For example, there are slight differences in American and British English and you can use the question mark to match both spellings."
      ],
      "metadata": {
        "id": "OaKhkZh0EwJZ"
      }
    },
    {
      "cell_type": "code",
      "source": [
        "let american = \"color\";\n",
        "let british = \"colour\";\n",
        "let rainbowRegex= /colou?r/;\n",
        "rainbowRegex.test(american);\n",
        "rainbowRegex.test(british);"
      ],
      "metadata": {
        "id": "S-XQ7qadEy7K"
      },
      "execution_count": null,
      "outputs": []
    },
    {
      "cell_type": "markdown",
      "source": [
        "Both uses of the test method would return true.\n",
        "\n",
        "Change the regex favRegex to match both the American English (favorite) and the British English (favourite) version of the word."
      ],
      "metadata": {
        "id": "ZrYGEvlvE0nd"
      }
    },
    {
      "cell_type": "code",
      "source": [
        "let favWord = \"favorite\";\n",
        "let favRegex = /favou?rite/;\n",
        "let result = favRegex.test(favWord);"
      ],
      "metadata": {
        "id": "d7j-MOhLE2f3"
      },
      "execution_count": null,
      "outputs": []
    },
    {
      "cell_type": "markdown",
      "source": [
        "# Positive and Negative Lookahead\n",
        "Lookaheads are patterns that tell JavaScript to look-ahead in your string to check for patterns further along. This can be useful when you want to search for multiple patterns over the same string.\n",
        "\n",
        "There are two kinds of lookaheads: positive lookahead and negative lookahead.\n",
        "\n",
        "A positive lookahead will look to make sure the element in the search pattern is there, but won't actually match it. A positive lookahead is used as (?=...) where the ... is the required part that is not matched.\n",
        "\n",
        "On the other hand, a negative lookahead will look to make sure the element in the search pattern is not there. A negative lookahead is used as (?!...) where the ... is the pattern that you do not want to be there. The rest of the pattern is returned if the negative lookahead part is not present.\n",
        "\n",
        "Lookaheads are a bit confusing but some examples will help."
      ],
      "metadata": {
        "id": "Wf3txVfHFN3Q"
      }
    },
    {
      "cell_type": "code",
      "source": [
        "let quit = \"qu\";\n",
        "let noquit = \"qt\";\n",
        "let quRegex= /q(?=u)/;\n",
        "let qRegex = /q(?!u)/;\n",
        "quit.match(quRegex);\n",
        "noquit.match(qRegex);"
      ],
      "metadata": {
        "id": "atI77HWRFQs7"
      },
      "execution_count": null,
      "outputs": []
    },
    {
      "cell_type": "markdown",
      "source": [
        "Both of these match calls would return [\"q\"].\n",
        "\n",
        "A more practical use of lookaheads is to check two or more patterns in one string. Here is a (naively) simple password checker that looks for between 3 and 6 characters and at least one number:"
      ],
      "metadata": {
        "id": "VfyKvFAeFTcS"
      }
    },
    {
      "cell_type": "code",
      "source": [
        "let password = \"abc123\";\n",
        "let checkPass = /(?=\\w{3,6})(?=\\D*\\d)/;\n",
        "checkPass.test(password);"
      ],
      "metadata": {
        "id": "6EXQQOyCFUJz"
      },
      "execution_count": null,
      "outputs": []
    },
    {
      "cell_type": "markdown",
      "source": [
        "Use lookaheads in the pwRegex to match passwords that are greater than 5 characters long, and have two consecutive digits."
      ],
      "metadata": {
        "id": "6IGqb3i9FWiq"
      }
    },
    {
      "cell_type": "code",
      "source": [
        "let sampleWord = \"astronaut\";\n",
        "let pwRegex = /(?=\\w{6})(?=\\w*\\d{2})/;\n",
        "let result = pwRegex.test(sampleWord);"
      ],
      "metadata": {
        "id": "Pvgk7mz8FXGP"
      },
      "execution_count": null,
      "outputs": []
    },
    {
      "cell_type": "markdown",
      "source": [
        "# Check For Mixed Grouping of Characters\n",
        "Sometimes we want to check for groups of characters using a Regular Expression and to achieve that we use parentheses ().\n",
        "\n",
        "If you want to find either Penguin or Pumpkin in a string, you can use the following Regular Expression: /P(engu|umpk)in/g\n",
        "\n",
        "Then check whether the desired string groups are in the test string by using the test() method."
      ],
      "metadata": {
        "id": "wpR9DeIPHBaz"
      }
    },
    {
      "cell_type": "code",
      "source": [
        "let testStr = \"Pumpkin\";\n",
        "let testRegex = /P(engu|umpk)in/;\n",
        "testRegex.test(testStr);"
      ],
      "metadata": {
        "id": "s5WDGAi5HFn_"
      },
      "execution_count": null,
      "outputs": []
    },
    {
      "cell_type": "markdown",
      "source": [
        "The test method here would return true.\n",
        "\n",
        "Fix the regex so that it checks for the names of Franklin Roosevelt or Eleanor Roosevelt in a case sensitive manner and it should make concessions for middle names.\n",
        "\n",
        "Then fix the code so that the regex that you have created is checked against myString and either true or false is returned depending on whether the regex matches."
      ],
      "metadata": {
        "id": "4buUHvxBHHOI"
      }
    },
    {
      "cell_type": "code",
      "source": [
        "let myString = \"Eleanor Roosevelt\";\n",
        "let myRegex = /(Franklin|Eleanor) (([A-Z]\\.?|[A-Z][a-z]+) )?Roosevelt/;\n",
        "let result = myRegex.test(myString);"
      ],
      "metadata": {
        "id": "oOA7Mfe4HJOY"
      },
      "execution_count": null,
      "outputs": []
    },
    {
      "cell_type": "markdown",
      "source": [
        "# Reuse Patterns Using Capture Groups\n",
        "Say you want to match a word that occurs multiple times like below."
      ],
      "metadata": {
        "id": "l1JuBSN2ITwo"
      }
    },
    {
      "cell_type": "code",
      "source": [
        "let repeatStr = \"row row row your boat\";"
      ],
      "metadata": {
        "id": "HS-joxTHIXWA"
      },
      "execution_count": null,
      "outputs": []
    },
    {
      "cell_type": "markdown",
      "source": [
        "You could use /row row row/, but what if you don't know the specific word repeated? Capture groups can be used to find repeated substrings.\n",
        "\n",
        "Capture groups are constructed by enclosing the regex pattern to be captured in parentheses. In this case, the goal is to capture a word consisting of alphanumeric characters so the capture group will be \\w+ enclosed by parentheses: /(\\w+)/.\n",
        "\n",
        "The substring matched by the group is saved to a temporary \"variable\", which can be accessed within the same regex using a backslash and the number of the capture group (e.g. \\1). Capture groups are automatically numbered by the position of their opening parentheses (left to right), starting at 1.\n",
        "\n",
        "The example below matches a word that occurs thrice separated by spaces:"
      ],
      "metadata": {
        "id": "4UmAIZqYIZCe"
      }
    },
    {
      "cell_type": "code",
      "source": [
        "let repeatRegex = /(\\w+) \\1 \\1/;\n",
        "repeatRegex.test(repeatStr); // Returns true\n",
        "repeatStr.match(repeatRegex); // Returns [\"row row row\", \"row\"]"
      ],
      "metadata": {
        "id": "qWB3wlMUIbDe"
      },
      "execution_count": null,
      "outputs": []
    },
    {
      "cell_type": "markdown",
      "source": [
        "Using the .match() method on a string will return an array with the matched substring, along with its captured groups.\n",
        "\n",
        "Use capture groups in reRegex to match a string that consists of only the same number repeated exactly three times separated by single spaces."
      ],
      "metadata": {
        "id": "FTdt5E5GIeTN"
      }
    },
    {
      "cell_type": "code",
      "source": [
        "let repeatNum = \"42 42 42\";\n",
        "let reRegex = /^(\\d+) \\1 \\1$/; // Change this line\n",
        "let result = reRegex.test(repeatNum);\n",
        "\n",
        "\n",
        "console.log(result);"
      ],
      "metadata": {
        "id": "jQScSgosIe8J"
      },
      "execution_count": null,
      "outputs": []
    },
    {
      "cell_type": "markdown",
      "source": [
        "# Use Capture Groups to Search and Replace\n",
        "Searching is useful. However, you can make searching even more powerful when it also changes (or replaces) the text you match.\n",
        "\n",
        "You can search and replace text in a string using .replace() on a string. The inputs for .replace() is first the regex pattern you want to search for. The second parameter is the string to replace the match or a function to do something."
      ],
      "metadata": {
        "id": "9xZoUfUaKwVv"
      }
    },
    {
      "cell_type": "code",
      "source": [
        "let wrongText = \"The sky is silver.\";\n",
        "let silverRegex = /silver/;\n",
        "wrongText.replace(silverRegex, \"blue\");"
      ],
      "metadata": {
        "id": "FjCKgeaPK3x-"
      },
      "execution_count": null,
      "outputs": []
    },
    {
      "cell_type": "markdown",
      "source": [
        "wrongText.replace(silverRegex, \"blue\");\n",
        "The replace call would return the string The sky is blue..\n",
        "\n",
        "You can also access capture groups in the replacement string with dollar signs ($)."
      ],
      "metadata": {
        "id": "Vwf8h18PK6w1"
      }
    },
    {
      "cell_type": "code",
      "source": [
        "\"Code Camp\".replace(/(\\w+)\\s(\\w+)/, '$2 $1');"
      ],
      "metadata": {
        "id": "8BUdvJpSK7R-"
      },
      "execution_count": null,
      "outputs": []
    },
    {
      "cell_type": "markdown",
      "source": [
        "The replace call would return the string Camp Code.\n",
        "\n",
        "Write a regex fixRegex using three capture groups that will search for each word in the string one two three. Then update the replaceText variable to replace one two three with the string three two one and assign the result to the result variable. Make sure you are utilizing capture groups in the replacement string using the dollar sign ($) syntax.\n",
        "\n"
      ],
      "metadata": {
        "id": "RQ2MrJX5K9FQ"
      }
    },
    {
      "cell_type": "code",
      "source": [
        "let str = \"one two three\";\n",
        "let fixRegex = /(\\w+)\\s(\\w+)\\s(\\w+)/;\n",
        "let replaceText = \"$3 $2 $1\";\n",
        "let result = str.replace(fixRegex, replaceText);"
      ],
      "metadata": {
        "id": "Sso3nCNUK-70"
      },
      "execution_count": null,
      "outputs": []
    },
    {
      "cell_type": "markdown",
      "source": [
        "# Remove Whitespace from Start and End\n",
        "Sometimes whitespace characters around strings are not wanted but are there. Typical processing of strings is to remove the whitespace at the start and end of it.\n",
        "\n",
        "Write a regex and use the appropriate string methods to remove whitespace at the beginning and end of strings.\n",
        "\n",
        "**Note**: The String.prototype.trim() method would work here, but you'll need to complete this challenge using regular expressions."
      ],
      "metadata": {
        "id": "dGfWwnkMLET8"
      }
    },
    {
      "cell_type": "code",
      "source": [
        "let hello = \"   Hello, World!  \";\n",
        "let wsRegex = /^\\s+|\\s+$/g;\n",
        "let result = hello.replace(wsRegex,\"\");"
      ],
      "metadata": {
        "id": "Mrt7LKefLyDK"
      },
      "execution_count": null,
      "outputs": []
    }
  ]
}