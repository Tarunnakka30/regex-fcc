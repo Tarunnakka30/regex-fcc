{
  "nbformat": 4,
  "nbformat_minor": 0,
  "metadata": {
    "colab": {
      "provenance": [],
      "collapsed_sections": [
        "Tdq8I51zppnA",
        "y8bXL-vErGs9",
        "3yDD4-ZmrYlC",
        "D0jNKj9Xv2dX",
        "7hq0Us5Ez3u7"
      ],
      "toc_visible": true,
      "authorship_tag": "ABX9TyOzqOhHcGk76YRCJ1NMrps2",
      "include_colab_link": true
    },
    "kernelspec": {
      "name": "python3",
      "display_name": "Python 3"
    },
    "language_info": {
      "name": "python"
    }
  },
  "cells": [
    {
      "cell_type": "markdown",
      "metadata": {
        "id": "view-in-github",
        "colab_type": "text"
      },
      "source": [
        "<a href=\"https://colab.research.google.com/github/Tarunnakka30/regex-fcc/blob/main/Regular_Expressions.ipynb\" target=\"_parent\"><img src=\"https://colab.research.google.com/assets/colab-badge.svg\" alt=\"Open In Colab\"/></a>"
      ]
    },
    {
      "cell_type": "markdown",
      "source": [
        "# Using the Test Method\n",
        "Regular expressions are used in programming languages to match parts of strings. You create patterns to help you do that matching.\n",
        "\n",
        "If you want to find the word the in the string *The dog chased the cat*, you could use the following regular expression: /the/. Notice that quote marks are not required within the regular expression.\n",
        "\n",
        "JavaScript has multiple ways to use regexes. One way to test a regex is using the .test() method. The .test() method takes the regex, applies it to a string (which is placed inside the parentheses), and returns true or false if your pattern finds something or not."
      ],
      "metadata": {
        "id": "Tdq8I51zppnA"
      }
    },
    {
      "cell_type": "code",
      "source": [
        "let testStr = \"freeCodeCamp\";\n",
        "let testRegex = /Code/;\n",
        "testRegex.test(testStr);"
      ],
      "metadata": {
        "id": "09y2wP70qEE7"
      },
      "execution_count": null,
      "outputs": []
    },
    {
      "cell_type": "markdown",
      "source": [
        "# Match Literal Strings\n",
        "In the last challenge, you searched for the word Hello using the regular expression /Hello/. That regex searched for a literal match of the string Hello. Here's another example searching for a literal match of the string Kevin"
      ],
      "metadata": {
        "id": "y8bXL-vErGs9"
      }
    },
    {
      "cell_type": "code",
      "source": [
        "let testStr = \"Hello, my name is Kevin.\";\n",
        "let testRegex = /Kevin/;\n",
        "testRegex.test(testStr);"
      ],
      "metadata": {
        "id": "sQ6G2DsurNlL"
      },
      "execution_count": null,
      "outputs": []
    },
    {
      "cell_type": "markdown",
      "source": [
        "This test call will return true.\n",
        "\n",
        "Any other forms of Kevin will not match. For example, the regex /Kevin/ will not match kevin or KEVIN."
      ],
      "metadata": {
        "id": "D4N5lPErrP7j"
      }
    },
    {
      "cell_type": "code",
      "source": [
        "let wrongRegex = /kevin/;\n",
        "wrongRegex.test(testStr);"
      ],
      "metadata": {
        "id": "ON5Un65yrUAc"
      },
      "execution_count": null,
      "outputs": []
    },
    {
      "cell_type": "markdown",
      "source": [
        "This test call will return false."
      ],
      "metadata": {
        "id": "6C1-jEGFrWJa"
      }
    },
    {
      "cell_type": "markdown",
      "source": [
        "# Match a Literal String with Different Possibilities\n",
        "Using regexes like /coding/, you can look for the pattern coding in another string.\n",
        "\n",
        "This is powerful to search single strings, but it's limited to only one pattern. You can search for multiple patterns using the alternation or OR operator: |.\n",
        "\n",
        "This operator matches patterns either before or after it. For example, if you wanted to match the strings yes or no, the regex you want is /yes|no/.\n",
        "\n",
        "You can also search for more than just two patterns. You can do this by adding more patterns with more OR operators separating them, like /yes|no|maybe/."
      ],
      "metadata": {
        "id": "3yDD4-ZmrYlC"
      }
    },
    {
      "cell_type": "code",
      "source": [
        "let petString = \"James has a pet cat.\";\n",
        "let petRegex = /dog|cat|bird|fish/; // Change this line\n",
        "let result = petRegex.test(petString);\n",
        "\n",
        "console.log(result);"
      ],
      "metadata": {
        "id": "Tx2pf-dWsDh8"
      },
      "execution_count": null,
      "outputs": []
    },
    {
      "cell_type": "markdown",
      "source": [
        "# Ignore Case While Matching\n",
        "Up until now, you've looked at regexes to do literal matches of strings. But sometimes, you might want to also match case differences.\n",
        "\n",
        "Case (or sometimes letter case) is the difference between uppercase letters and lowercase letters. Examples of uppercase are A, B, and C. Examples of lowercase are a, b, and c.\n",
        "\n",
        "You can match both cases using what is called a flag. There are other flags but here you'll focus on the flag that ignores case - the i flag. You can use it by appending it to the regex. An example of using this flag is /ignorecase/i. This regex can match the strings ignorecase, igNoreCase, and IgnoreCase."
      ],
      "metadata": {
        "id": "Bch9dJLHsnkA"
      }
    },
    {
      "cell_type": "code",
      "source": [
        "let myString = \"freeCodeCamp\";\n",
        "let fccRegex = /FreeCodeCamp/i; // Change this line\n",
        "let result = fccRegex.test(myString);"
      ],
      "metadata": {
        "id": "rzQ6FECTstzH"
      },
      "execution_count": null,
      "outputs": []
    },
    {
      "cell_type": "markdown",
      "source": [
        "# Extract Matches\n",
        "So far, you have only been checking if a pattern exists or not within a string. You can also extract the actual matches you found with the .match() method.\n",
        "\n",
        "To use the .match() method, apply the method on a string and pass in the regex inside the parentheses.\n",
        "\n",
        "Here's an example:"
      ],
      "metadata": {
        "id": "Xd3Jt8WZuDeo"
      }
    },
    {
      "cell_type": "code",
      "source": [
        "\"Hello, World!\".match(/Hello/);\n",
        "let ourStr = \"Regular expressions\";\n",
        "let ourRegex = /expressions/;\n",
        "ourStr.match(ourRegex);"
      ],
      "metadata": {
        "id": "aqclp-WNuHWR"
      },
      "execution_count": null,
      "outputs": []
    },
    {
      "cell_type": "markdown",
      "source": [
        "Here the first match would return [\"Hello\"] and the second would return [\"expressions\"].\n",
        "\n",
        "Note that the .match syntax is the \"opposite\" of the .test method you have been using thus far:"
      ],
      "metadata": {
        "id": "D6LfECgHuJa5"
      }
    },
    {
      "cell_type": "code",
      "source": [
        "'string'.match(/regex/);\n",
        "/regex/.test('string');"
      ],
      "metadata": {
        "id": "HVyQVNjHuMYy"
      },
      "execution_count": null,
      "outputs": []
    },
    {
      "cell_type": "code",
      "source": [
        "let extractStr = \"Extract the word 'coding' from this string.\".match(/coding/);\n",
        "let codingRegex = /coding/; // Change this line\n",
        "let result = extractStr; // Change this line"
      ],
      "metadata": {
        "id": "dYj-PnakuQFR"
      },
      "execution_count": null,
      "outputs": []
    },
    {
      "cell_type": "markdown",
      "source": [
        "# Find More Than the First Match\n",
        "So far, you have only been able to extract or search a pattern once."
      ],
      "metadata": {
        "id": "xlYYsI6zvKmj"
      }
    },
    {
      "cell_type": "code",
      "source": [
        "let testStr = \"Repeat, Repeat, Repeat\";\n",
        "let ourRegex = /Repeat/;\n",
        "testStr.match(ourRegex);"
      ],
      "metadata": {
        "id": "JRehtW1gvSRh"
      },
      "execution_count": null,
      "outputs": []
    },
    {
      "cell_type": "markdown",
      "source": [
        "Here match would return [\"Repeat\"].\n",
        "\n",
        "To search or extract a pattern more than once, you can use the global search flag: g."
      ],
      "metadata": {
        "id": "sM2b5GH9vUDV"
      }
    },
    {
      "cell_type": "code",
      "source": [
        "let repeatRegex = /Repeat/g;\n",
        "testStr.match(repeatRegex);"
      ],
      "metadata": {
        "id": "xYsY_yIVvWNu"
      },
      "execution_count": null,
      "outputs": []
    },
    {
      "cell_type": "markdown",
      "source": [
        "And here match returns the value [\"Repeat\", \"Repeat\", \"Repeat\"]\n",
        "\n",
        "**NOTE**: You can have multiple flags on your regex like /search/gi"
      ],
      "metadata": {
        "id": "eHrjE8mCvX9_"
      }
    },
    {
      "cell_type": "code",
      "source": [
        "let twinkleStar = \"Twinkle, twinkle, little star\";\n",
        "let starRegex = /twinkle/gi; // Change this line\n",
        "let result = twinkleStar.match(starRegex); // Change this line\n",
        "\n",
        "console.log(result);"
      ],
      "metadata": {
        "id": "Ul1IE5m9vkHi"
      },
      "execution_count": null,
      "outputs": []
    },
    {
      "cell_type": "markdown",
      "source": [
        "# Match Anything with Wildcard Period\n",
        "Sometimes you won't (or don't need to) know the exact characters in your patterns. Thinking of all words that match, say, a misspelling would take a long time. Luckily, you can save time using the wildcard character: .\n",
        "\n",
        "The wildcard character . will match any one character. The wildcard is also called dot and period. You can use the wildcard character just like any other character in the regex. For example, if you wanted to match hug, huh, hut, and hum, you can use the regex /hu./ to match all four words."
      ],
      "metadata": {
        "id": "D0jNKj9Xv2dX"
      }
    },
    {
      "cell_type": "code",
      "source": [
        "let humStr = \"I'll hum a song\";\n",
        "let hugStr = \"Bear hug\";\n",
        "let huRegex = /hu./;\n",
        "huRegex.test(humStr);\n",
        "huRegex.test(hugStr);"
      ],
      "metadata": {
        "id": "IGRf0u_0wcrX"
      },
      "execution_count": null,
      "outputs": []
    },
    {
      "cell_type": "markdown",
      "source": [
        "Both of these test calls would return true."
      ],
      "metadata": {
        "id": "yYEcPqHPwetI"
      }
    },
    {
      "cell_type": "markdown",
      "source": [
        "Complete the regex unRegex so that it matches the strings run, sun, fun, pun, nun, and bun. Your regex should use the wildcard character."
      ],
      "metadata": {
        "id": "LfQP4l4mw367"
      }
    },
    {
      "cell_type": "code",
      "source": [
        "let exampleStr = \"Let's have fun with regular expressions!\";\n",
        "let unRegex = /.un/; // Change this line\n",
        "let result = unRegex.test(exampleStr);\n",
        "\n",
        "console.log(result);"
      ],
      "metadata": {
        "id": "Nr__m_4Lw4xc"
      },
      "execution_count": null,
      "outputs": []
    },
    {
      "cell_type": "markdown",
      "source": [
        "#Match Single Character with Multiple Possibilities\n",
        "You learned how to match literal patterns (/literal/) and wildcard character (/./). Those are the extremes of regular expressions, where one finds exact matches and the other matches everything. There are options that are a balance between the two extremes.\n",
        "\n",
        "You can search for a literal pattern with some flexibility with character classes. Character classes allow you to define a group of characters you wish to match by placing them inside square ([ and ]) brackets.\n",
        "\n",
        "For example, you want to match bag, big, and bug but not bog. You can create the regex /b[aiu]g/ to do this. The [aiu] is the character class that will only match the characters a, i, or u."
      ],
      "metadata": {
        "id": "Y9yXlGBzw_4X"
      }
    },
    {
      "cell_type": "code",
      "source": [
        "let bigStr = \"big\";\n",
        "let bagStr = \"bag\";\n",
        "let bugStr = \"bug\";\n",
        "let bogStr = \"bog\";\n",
        "let bgRegex = /b[aiu]g/;\n",
        "bigStr.match(bgRegex);\n",
        "bagStr.match(bgRegex);\n",
        "bugStr.match(bgRegex);\n",
        "bogStr.match(bgRegex);"
      ],
      "metadata": {
        "id": "6yHkMLmqxI1F"
      },
      "execution_count": null,
      "outputs": []
    },
    {
      "cell_type": "markdown",
      "source": [
        "In order, the four match calls would return the values [\"big\"], [\"bag\"], [\"bug\"], and null.\n",
        "\n"
      ],
      "metadata": {
        "id": "b_jEoisbxKpY"
      }
    },
    {
      "cell_type": "markdown",
      "source": [
        "Use a character class with vowels (a, e, i, o, u) in your regex vowelRegex to find all the vowels in the string quoteSample.\n",
        "\n"
      ],
      "metadata": {
        "id": "G3exkB9GxOGs"
      }
    },
    {
      "cell_type": "code",
      "source": [
        "let quoteSample = \"Beware of bugs in the above code; I have only proved it correct, not tried it.\";\n",
        "let vowelRegex = /[aeiou]/ig; // Change this line\n",
        "let result = quoteSample.match(vowelRegex); // Change this line\n",
        "\n",
        "console.log(result);"
      ],
      "metadata": {
        "id": "cpi0iVhMxRBl"
      },
      "execution_count": null,
      "outputs": []
    },
    {
      "cell_type": "markdown",
      "source": [
        "# Match Letters of the Alphabet\n",
        "You saw how you can use character sets to specify a group of characters to match, but that's a lot of typing when you need to match a large range of characters (for example, every letter in the alphabet). Fortunately, there is a built-in feature that makes this short and simple.\n",
        "\n",
        "Inside a character set, you can define a range of characters to match using a hyphen character: -.\n",
        "\n",
        "For example, to match lowercase letters a through e you would use [a-e]."
      ],
      "metadata": {
        "id": "zWgUvVt2yhDj"
      }
    },
    {
      "cell_type": "code",
      "source": [
        "let catStr = \"cat\";\n",
        "let batStr = \"bat\";\n",
        "let matStr = \"mat\";\n",
        "let bgRegex = /[a-e]at/;\n",
        "catStr.match(bgRegex);\n",
        "batStr.match(bgRegex);\n",
        "matStr.match(bgRegex);"
      ],
      "metadata": {
        "id": "aMYvsx7hymxw"
      },
      "execution_count": null,
      "outputs": []
    },
    {
      "cell_type": "markdown",
      "source": [
        "In order, the three match calls would return the values [\"cat\"], [\"bat\"], and null.\n",
        "<br>Match all the letters in the string quoteSample."
      ],
      "metadata": {
        "id": "tvaCECcpypEg"
      }
    },
    {
      "cell_type": "code",
      "source": [
        "let quoteSample = \"The quick brown fox jumps over the lazy dog.\";\n",
        "let alphabetRegex = /[a-z]/gi; // Change this line\n",
        "let result = quoteSample.match(alphabetRegex); // Change this line\n",
        "\n",
        "console.log(result);"
      ],
      "metadata": {
        "id": "s25lsJEwyv-X"
      },
      "execution_count": null,
      "outputs": []
    },
    {
      "cell_type": "markdown",
      "source": [
        "# Match Numbers and Letters of the Alphabet\n",
        "Using the hyphen (-) to match a range of characters is not limited to letters. It also works to match a range of numbers.\n",
        "\n",
        "For example, /[0-5]/ matches any number between 0 and 5, including the 0 and 5.\n",
        "\n",
        "Also, it is possible to combine a range of letters and numbers in a single character set."
      ],
      "metadata": {
        "id": "7hq0Us5Ez3u7"
      }
    },
    {
      "cell_type": "code",
      "source": [
        "let jennyStr = \"Jenny8675309\";\n",
        "let myRegex = /[a-z0-9]/ig;\n",
        "jennyStr.match(myRegex);"
      ],
      "metadata": {
        "id": "pm3fGzYAz7pQ"
      },
      "execution_count": null,
      "outputs": []
    },
    {
      "cell_type": "markdown",
      "source": [
        "Create a single regex that matches a range of letters between h and s, and a range of numbers between 2 and 6. Remember to include the appropriate flags in the regex.\n",
        "\n"
      ],
      "metadata": {
        "id": "ZutFla_xz9QR"
      }
    },
    {
      "cell_type": "code",
      "source": [
        "let quoteSample = \"Blueberry 3.141592653s are delicious.\";\n",
        "let myRegex = /[h-s2-6]/ig; // Change this line\n",
        "let result = quoteSample.match(myRegex); // Change this line\n",
        "\n",
        "console.log(result);"
      ],
      "metadata": {
        "id": "C-OzrX16z_An"
      },
      "execution_count": null,
      "outputs": []
    }
  ]
}